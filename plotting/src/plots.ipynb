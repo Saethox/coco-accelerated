{
 "cells": [
  {
   "cell_type": "code",
   "execution_count": null,
   "metadata": {},
   "outputs": [],
   "source": [
    "from report import load_report, Benchmark\n",
    "from typing import List\n",
    "from pathlib import Path\n",
    "\n",
    "# for plotting\n",
    "import matplotlib.pyplot as plt\n",
    "import seaborn as sbn\n",
    "import pandas as pnd"
   ]
  },
  {
   "cell_type": "markdown",
   "metadata": {},
   "source": [
    "# Load latest report"
   ]
  },
  {
   "cell_type": "code",
   "execution_count": null,
   "metadata": {},
   "outputs": [],
   "source": [
    "current = load_report(Path('../../reports/current-09-09'))"
   ]
  },
  {
   "cell_type": "markdown",
   "metadata": {},
   "source": [
    "# Print basic stats"
   ]
  },
  {
   "cell_type": "code",
   "execution_count": null,
   "metadata": {},
   "outputs": [],
   "source": [
    "print(f'reports: {len(current)}')\n",
    "\n",
    "functions = sorted(set((rep.function for rep in current)))\n",
    "print(f'functions: {len(functions)}')\n",
    "\n",
    "targets = sorted(set((rep.target for rep in current)))\n",
    "print(f'targets: {targets}')\n",
    "\n",
    "dimensions = sorted(set((rep.dimension for rep in current)))\n",
    "print(f'dimensions: {dimensions}')\n",
    "\n",
    "batch_sizes = sorted(set((rep.batch_size for rep in current)))\n",
    "print(f'batch_sizes: {batch_sizes}')"
   ]
  },
  {
   "cell_type": "markdown",
   "metadata": {},
   "source": [
    "# Create data frame from report"
   ]
  },
  {
   "cell_type": "code",
   "execution_count": null,
   "metadata": {},
   "outputs": [],
   "source": [
    "def make_dataframe(benchmarks: List[Benchmark]) -> pnd.DataFrame:\n",
    "    targets = [b.target for b in benchmarks]\n",
    "    functions = [b.function for b in benchmarks]\n",
    "    dimensions = [b.dimension for b in benchmarks]\n",
    "    batch_sizes = [b.batch_size for b in benchmarks]\n",
    "    medians = [b.measurements.estimates['median'].point for b in benchmarks]\n",
    "    means = [b.measurements.estimates['mean'].point for b in benchmarks]\n",
    "\n",
    "    return pnd.DataFrame({\n",
    "        'target': targets,\n",
    "        'function': functions,\n",
    "        'dimension': dimensions,\n",
    "        'batch_size': batch_sizes,\n",
    "        'median': medians,\n",
    "        'mean': means,\n",
    "    })\n",
    "\n",
    "cdf = make_dataframe(current)"
   ]
  },
  {
   "cell_type": "code",
   "execution_count": null,
   "metadata": {},
   "outputs": [],
   "source": [
    "cdf['median_n'] = cdf['median'] / cdf.groupby(['function', 'dimension'])['median'].transform('max')"
   ]
  },
  {
   "cell_type": "markdown",
   "metadata": {},
   "source": [
    "# Plot each function over batch size"
   ]
  },
  {
   "cell_type": "code",
   "execution_count": null,
   "metadata": {},
   "outputs": [],
   "source": [
    "sbn.relplot(data=cdf, kind='line', x='batch_size', y='median_n', hue='target', row='function', col='dimension')"
   ]
  },
  {
   "cell_type": "markdown",
   "metadata": {},
   "source": [
    "# Plot improvements over all functions"
   ]
  },
  {
   "cell_type": "code",
   "execution_count": null,
   "metadata": {},
   "outputs": [],
   "source": [
    "s1 = cdf[cdf['target'] == 'sequential']['median_n']\n",
    "s2 = cdf[cdf['target'] == 'multicore']['median_n']\n",
    "\n",
    "r1 = cdf[cdf['target'] == 'reference']['median_n']\n",
    "r2 = cdf[cdf['target'] == 'reference']['median_n']\n",
    "\n",
    "r1.index = s1.index\n",
    "r2.index = s2.index\n",
    "\n",
    "d1 = s1 - r1\n",
    "d2 = s2 - r2\n",
    "\n",
    "cdf['delta'] = d1.add(d2, fill_value=0)"
   ]
  },
  {
   "cell_type": "code",
   "execution_count": null,
   "metadata": {},
   "outputs": [],
   "source": [
    "width = 1\n",
    "\n",
    "data = cdf[(cdf['dimension'] == 40) & (cdf['batch_size'] == 128)]\n",
    "data_s = data[(data['target'] == 'sequential')]\n",
    "data_m = data[(data['target'] == 'multicore')]\n",
    "\n",
    "# Initialize the matplotlib figure\n",
    "f, ax = plt.subplots(figsize=(6, 10))\n",
    "\n",
    "# Plot the total crashes\n",
    "sbn.set_color_codes(\"pastel\")\n",
    "sbn.barplot(x=\"delta\", y=\"function\", data=data_s, label=\"Sequential\", errorbar=None, color=\"b\")\n",
    "\n",
    "# Plot the crashes where alcohol was involved\n",
    "sbn.set_color_codes(\"muted\")\n",
    "sbn.barplot(x=\"delta\", y=\"function\", data=data_m, label=\"Multicore\", errorbar=None, color=\"b\")\n",
    "\n",
    "# Add a legend and informative axis label\n",
    "ax.legend(ncol=1, loc=\"lower right\", frameon=True)\n",
    "ax.set(xlim=(-width, width), ylabel=\"\", xlabel=\"Relative Improvement of D40xB128\")\n",
    "sbn.despine(left=True, bottom=True)\n"
   ]
  }
 ],
 "metadata": {
  "kernelspec": {
   "display_name": "Python 3.10.6 ('.venv': venv)",
   "language": "python",
   "name": "python3"
  },
  "language_info": {
   "codemirror_mode": {
    "name": "ipython",
    "version": 3
   },
   "file_extension": ".py",
   "mimetype": "text/x-python",
   "name": "python",
   "nbconvert_exporter": "python",
   "pygments_lexer": "ipython3",
   "version": "3.10.6"
  },
  "orig_nbformat": 4,
  "vscode": {
   "interpreter": {
    "hash": "8761d7afef969a494f81cd30522f95e81478279dff3319544cd8015154d613a4"
   }
  }
 },
 "nbformat": 4,
 "nbformat_minor": 2
}
