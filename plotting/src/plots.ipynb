{
 "cells": [
  {
   "cell_type": "code",
   "execution_count": null,
   "metadata": {},
   "outputs": [],
   "source": [
    "from typing import List\n",
    "from pathlib import Path\n",
    "\n",
    "import report as reports\n",
    "import augment\n",
    "import plots\n",
    "\n",
    "# for plotting\n",
    "import matplotlib.pyplot as plt\n",
    "import seaborn as sbn\n",
    "import pandas as pnd"
   ]
  },
  {
   "cell_type": "markdown",
   "metadata": {},
   "source": [
    "# Load latest report"
   ]
  },
  {
   "cell_type": "code",
   "execution_count": null,
   "metadata": {},
   "outputs": [],
   "source": [
    "current = reports.load_report(Path('../../reports/current-09-09'))\n",
    "report = reports.make_report_data_frame(current)\n",
    "report = augment.augment_report_data_frame(report)\n",
    "\n",
    "report"
   ]
  },
  {
   "cell_type": "markdown",
   "metadata": {},
   "source": [
    "# Print basic stats"
   ]
  },
  {
   "cell_type": "code",
   "execution_count": null,
   "metadata": {},
   "outputs": [],
   "source": [
    "print(f'reports: {len(current)}')\n",
    "\n",
    "functions = sorted(set((rep.function for rep in current)))\n",
    "print(f'functions: {len(functions)}')\n",
    "\n",
    "targets = sorted(set((rep.target for rep in current)))\n",
    "print(f'targets: {targets}')\n",
    "\n",
    "dimensions = sorted(set((rep.dimension for rep in current)))\n",
    "print(f'dimensions: {dimensions}')\n",
    "\n",
    "batch_sizes = sorted(set((rep.batch_size for rep in current)))\n",
    "print(f'batch_sizes: {batch_sizes}')"
   ]
  },
  {
   "cell_type": "markdown",
   "metadata": {},
   "source": [
    "# Plot improvements over all functions"
   ]
  },
  {
   "cell_type": "code",
   "execution_count": null,
   "metadata": {},
   "outputs": [],
   "source": [
    "_ = plots.delta(report)"
   ]
  },
  {
   "cell_type": "markdown",
   "metadata": {},
   "source": [
    "# Aggregation"
   ]
  },
  {
   "cell_type": "code",
   "execution_count": null,
   "metadata": {},
   "outputs": [],
   "source": [
    "_ = plots.aggregation(report)"
   ]
  },
  {
   "cell_type": "markdown",
   "metadata": {},
   "source": [
    "# Experiments"
   ]
  },
  {
   "cell_type": "code",
   "execution_count": null,
   "metadata": {},
   "outputs": [],
   "source": [
    "data = report.groupby(by=['dimension', 'batch_size', 'target']).aggregate({'std_dev': 'mean'}).reset_index()\n",
    "\n",
    "fig, ax = plt.subplots(1, 2, figsize=(12, 7))\n",
    "\n",
    "ax[0].set_title('dimension 2')\n",
    "sbn.barplot(data[data['dimension'] == 2], x='batch_size', y='std_dev', hue='target', ax=ax[0])\n",
    "\n",
    "ax[1].set_title('dimension 40')\n",
    "sbn.barplot(data[data['dimension'] == 40], x='batch_size', y='std_dev', hue='target', ax=ax[1])"
   ]
  },
  {
   "cell_type": "code",
   "execution_count": null,
   "metadata": {},
   "outputs": [],
   "source": [
    "# target | function | avg_value\n",
    "\n",
    "triplets = [(b.target, b.function, b.dimension, b.batch_size, b.measurements.avg_values) for b in current]\n",
    "count = sum((len(t[4]) for t in triplets))\n",
    "entries = list()\n",
    "for target, function, dimension, batch_size, avg_values in triplets:\n",
    "    for value in avg_values:\n",
    "        entries.append((target, function, dimension, batch_size, value))\n",
    "    \n",
    "data = pnd.DataFrame(entries, columns=['target', 'function', 'dimension', 'batch_size', 'avg_value'])\n",
    "data = data[(data['dimension'] == 40) & (data['batch_size'] == 64)]\n",
    "data = data[(data['function'] == 'Sphere') | (data['function'] == 'Ellipsoid') | (data['function'] == 'Rastrigin')]\n",
    "\n",
    "sbn.set(rc={'figure.figsize': (8, 6)})\n",
    "sbn.boxplot(data=data, x='function', y='avg_value', hue='target')"
   ]
  }
 ],
 "metadata": {
  "kernelspec": {
   "display_name": "Python 3.10.7 ('.venv': venv)",
   "language": "python",
   "name": "python3"
  },
  "language_info": {
   "codemirror_mode": {
    "name": "ipython",
    "version": 3
   },
   "file_extension": ".py",
   "mimetype": "text/x-python",
   "name": "python",
   "nbconvert_exporter": "python",
   "pygments_lexer": "ipython3",
   "version": "3.10.6"
  },
  "orig_nbformat": 4,
  "vscode": {
   "interpreter": {
    "hash": "8761d7afef969a494f81cd30522f95e81478279dff3319544cd8015154d613a4"
   }
  }
 },
 "nbformat": 4,
 "nbformat_minor": 2
}
